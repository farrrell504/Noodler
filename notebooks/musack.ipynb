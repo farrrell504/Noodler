{
 "cells": [
  {
   "cell_type": "markdown",
   "metadata": {},
   "source": [
    "[latex_cheat_sheet](http://tug.ctan.org/info/latex-refsheet/LaTeX_RefSheet.pdf)  \n",
    "[latex_cheat_sheet_2](https://wch.github.io/latexsheet/)"
   ]
  },
  {
   "cell_type": "markdown",
   "metadata": {
    "slideshow": {
     "slide_type": "slide"
    }
   },
   "source": [
    "<center style='font-size:220%'>Music Scales"
   ]
  },
  {
   "cell_type": "code",
   "execution_count": 1,
   "metadata": {},
   "outputs": [],
   "source": [
    "import numpy as np\n",
    "import matplotlib.pyplot as plt\n",
    "import notebook_helpers as nh\n",
    "\n",
    "import pandas as pd # delete later"
   ]
  },
  {
   "cell_type": "code",
   "execution_count": 2,
   "metadata": {},
   "outputs": [],
   "source": [
    "import noodler"
   ]
  },
  {
   "cell_type": "markdown",
   "metadata": {},
   "source": [
    "Notes:  \n",
    " - All formulae should be in metric \n",
    " - Avoid prefixes\n",
    " - Music is about opinions and this notebook is full of mine, be your own judge on your path"
   ]
  },
  {
   "cell_type": "markdown",
   "metadata": {},
   "source": [
    "[Fundamentals](#fundamentals)  \n",
    "[Note to Frequency](#notetofrequency)  \n",
    "[Intervals](#intervals)  \n",
    "[Circle of Fifths and Fourths](#circles)  \n",
    "[Scales](#scales)  \n",
    "[Chords](#chords)  \n",
    "[Keys](#keys)  "
   ]
  },
  {
   "cell_type": "markdown",
   "metadata": {
    "slideshow": {
     "slide_type": "fragment"
    }
   },
   "source": [
    "<center id='fundamentals'><h1>Fundamentals"
   ]
  },
  {
   "cell_type": "markdown",
   "metadata": {},
   "source": [
    "<center><h2>Sharps and Flats"
   ]
  },
  {
   "cell_type": "markdown",
   "metadata": {},
   "source": [
    "Western scales are generally in semitones.  \n",
    "Quarter steps are ignored/commonly found in Eastern music"
   ]
  },
  {
   "cell_type": "markdown",
   "metadata": {},
   "source": [
    "A note can either be flat, sharp, or natural  \n",
    "Sharp _notes are higher in pitch than their natural counterparts  \n",
    "Flat _notes are lower in pitch than their natural counterparts  \n",
    "\n",
    "The term *enharmonic* refers to _notes that are the same fundamentally, but have different naming conventions.   \n",
    "For example, G# == Fb (for an equal temperment tuning, which is what we're going to work with).  \n",
    "*TODO explain equal temperment. This is the second time I wrote this TODO.   \n",
    "Should probably, ya know, do it?*"
   ]
  },
  {
   "cell_type": "markdown",
   "metadata": {},
   "source": [
    "<center style='font-size:140%'>\n",
    "    \n",
    "What to remember\n",
    "  "
   ]
  },
  {
   "cell_type": "markdown",
   "metadata": {},
   "source": [
    "  \n",
    "|   |  Symbol \t|   Pitch (relative to natural/normal)\t|   \t|\n",
    "|---\t|---\t|---\t|---\t|\n",
    "|  Sharp \t|  # \t|   up\t|   \t|\n",
    "|   Flat\t|   b\t|   down\t|   \t|"
   ]
  },
  {
   "cell_type": "markdown",
   "metadata": {},
   "source": [
    "I'm sure there's a good reason they both exist, but I prefer sharps as they are visually easier to indicate.  \n",
    "If you like flats more, then I'd say you aren't the *sharpest* tool in the shed. See what I did there? Get it? It's a real knee slapper for ya!"
   ]
  },
  {
   "cell_type": "code",
   "execution_count": 3,
   "metadata": {},
   "outputs": [
    {
     "data": {
      "text/plain": [
       "['a', 'a#', 'b', 'c', 'c#', 'd', 'd#', 'e', 'f', 'f#', 'g', 'g#']"
      ]
     },
     "execution_count": 3,
     "metadata": {},
     "output_type": "execute_result"
    }
   ],
   "source": [
    "noodler.musack._notes"
   ]
  },
  {
   "cell_type": "code",
   "execution_count": 4,
   "metadata": {},
   "outputs": [
    {
     "data": {
      "text/plain": [
       "['g#', 'a', 'a#', 'b', 'c', 'c#', 'd', 'd#', 'e', 'f', 'f#', 'g']"
      ]
     },
     "execution_count": 4,
     "metadata": {},
     "output_type": "execute_result"
    }
   ],
   "source": [
    "noodler._make_note_list('g#')"
   ]
  },
  {
   "cell_type": "code",
   "execution_count": 5,
   "metadata": {},
   "outputs": [
    {
     "data": {
      "text/plain": [
       "['a', 'b', 'c', 'd', 'e', 'f', 'g']"
      ]
     },
     "execution_count": 5,
     "metadata": {},
     "output_type": "execute_result"
    }
   ],
   "source": [
    "noodler._make_note_list('g#',only_natural=True)"
   ]
  },
  {
   "cell_type": "markdown",
   "metadata": {},
   "source": [
    "Keep in mind the musical alphabet doesn't follow lexicographical/typical alphabetical order.  \n",
    "The musical alphabet starts at C and ends on B.  \n",
    "So to get the musical alphabet, we can use the above function, `_make_note_list`  \n",
    "But pass it the letter `C` to start the list and thus alphabet, there:"
   ]
  },
  {
   "cell_type": "code",
   "execution_count": 6,
   "metadata": {},
   "outputs": [
    {
     "data": {
      "text/plain": [
       "['c', 'c#', 'd', 'd#', 'e', 'f', 'f#', 'g', 'g#', 'a', 'a#', 'b']"
      ]
     },
     "execution_count": 6,
     "metadata": {},
     "output_type": "execute_result"
    }
   ],
   "source": [
    "noodler._make_note_list('c')"
   ]
  },
  {
   "cell_type": "markdown",
   "metadata": {},
   "source": [
    "Two convenience functions for ingesting a note and converting it to/from a sharp (#) or flat (b)"
   ]
  },
  {
   "cell_type": "code",
   "execution_count": 7,
   "metadata": {},
   "outputs": [
    {
     "data": {
      "text/plain": [
       "'ab'"
      ]
     },
     "execution_count": 7,
     "metadata": {},
     "output_type": "execute_result"
    }
   ],
   "source": [
    "noodler._sharp_to_flat('G#')"
   ]
  },
  {
   "cell_type": "code",
   "execution_count": 8,
   "metadata": {},
   "outputs": [
    {
     "data": {
      "text/plain": [
       "'g#'"
      ]
     },
     "execution_count": 8,
     "metadata": {},
     "output_type": "execute_result"
    }
   ],
   "source": [
    "noodler._flat_to_sharp('ab')"
   ]
  },
  {
   "cell_type": "markdown",
   "metadata": {},
   "source": [
    "<center><h2>Syntax/Naming Conventions"
   ]
  },
  {
   "cell_type": "markdown",
   "metadata": {},
   "source": [
    "In music world, things (whether it be _notes, chords, scales, etc.) follow a couple rules of thumb:\n",
    "- if the letter `m` or a roman numeral is capitolized, it is major/happy\n",
    "  - as if opposed to those other ones that are socialized and sad/unhappy\n",
    "    - these are commonly referred to as \"lower class\" or \"lower case\" and are minor\n",
    "    \n",
    "For example, if you see something like `m3`, it would be a minor third"
   ]
  },
  {
   "cell_type": "code",
   "execution_count": 9,
   "metadata": {},
   "outputs": [
    {
     "data": {
      "text/plain": [
       "{1: 'i', 2: 'ii', 3: 'iii', 4: 'iv', 5: 'v', 6: 'vi', 7: 'vii'}"
      ]
     },
     "execution_count": 9,
     "metadata": {},
     "output_type": "execute_result"
    }
   ],
   "source": [
    "noodler.musack._roman_dict"
   ]
  },
  {
   "cell_type": "markdown",
   "metadata": {},
   "source": [
    "Throughout this notebook/library,  \n",
    "When referring to _notes, we can use either:\n",
    "- just note name \n",
    "  - ex: g, a#, fb\n",
    "- scientific pitch notation\n",
    "  - these are note name followed by the octave\n",
    "  - ex: g3, a4, c#-1\n",
    "  \n",
    "Below is a function that makes dealing with them simple.  \n",
    "It splits the note and returns a `tuple` [python object for holding things] that contains note name and octave.  \n",
    "If there is no octave, octave is replace with `None`"
   ]
  },
  {
   "cell_type": "code",
   "execution_count": 10,
   "metadata": {},
   "outputs": [
    {
     "data": {
      "text/plain": [
       "('g', 3)"
      ]
     },
     "execution_count": 10,
     "metadata": {},
     "output_type": "execute_result"
    }
   ],
   "source": [
    "noodler.split_note('g3')"
   ]
  },
  {
   "cell_type": "markdown",
   "metadata": {},
   "source": [
    "<center id='notetofrequency'><h1>Note to Frequency"
   ]
  },
  {
   "cell_type": "markdown",
   "metadata": {},
   "source": [
    "Using standard A is 440Hz.  \n",
    "Defined by an ISO standard if you care  \n",
    "This is the A note *above* middle C  \n",
    "Middle C is C in the 3rd octave or C3.  \n",
    "So A 440Hz, is A4. "
   ]
  },
  {
   "cell_type": "code",
   "execution_count": 11,
   "metadata": {},
   "outputs": [],
   "source": [
    "a4 = 440"
   ]
  },
  {
   "cell_type": "markdown",
   "metadata": {},
   "source": [
    "Octave means frequency doubles.  \n",
    "So A5 is:"
   ]
  },
  {
   "cell_type": "code",
   "execution_count": 12,
   "metadata": {},
   "outputs": [
    {
     "data": {
      "text/plain": [
       "880"
      ]
     },
     "execution_count": 12,
     "metadata": {},
     "output_type": "execute_result"
    }
   ],
   "source": [
    "a5 = a4*2\n",
    "a5"
   ]
  },
  {
   "cell_type": "markdown",
   "metadata": {},
   "source": [
    "There is equal spacing (frequency wise) between the 12 _notes  \n",
    "I think this is why it's called equal tempormant or something like that?  \n",
    "Should double check  \n",
    "So the ratio between _notes is equal:"
   ]
  },
  {
   "cell_type": "markdown",
   "metadata": {},
   "source": [
    "TODO Describe difference to just tempormant"
   ]
  },
  {
   "cell_type": "markdown",
   "metadata": {},
   "source": [
    "> $\\frac{f1}{f0}={r}$  "
   ]
  },
  {
   "cell_type": "markdown",
   "metadata": {},
   "source": [
    "and"
   ]
  },
  {
   "cell_type": "markdown",
   "metadata": {},
   "source": [
    "> $\\frac{f2}{f1}={r}$ "
   ]
  },
  {
   "cell_type": "markdown",
   "metadata": {},
   "source": [
    "and"
   ]
  },
  {
   "cell_type": "markdown",
   "metadata": {},
   "source": [
    "> $\\frac{f2}{f0}={r}^{2}$ "
   ]
  },
  {
   "cell_type": "markdown",
   "metadata": {},
   "source": [
    "If you keep following this/solve it out,  \n",
    "this becomes a power series where  \n",
    "> $\\frac{f12}{f0}={r}^{12}$"
   ]
  },
  {
   "cell_type": "markdown",
   "metadata": {},
   "source": [
    "Since we know the 12th note is an octave, and an octave means a doubling of frequency,  \n",
    "We now can say:  \n",
    "> $\\frac{f12}{f0}={r}^{12}={2}$"
   ]
  },
  {
   "cell_type": "markdown",
   "metadata": {},
   "source": [
    "So:"
   ]
  },
  {
   "cell_type": "markdown",
   "metadata": {},
   "source": [
    "> ${r}={2}^\\frac{1}{12}$  \n",
    "or  \n",
    "> ${r}=\\sqrt[12]{2}$  "
   ]
  },
  {
   "cell_type": "markdown",
   "metadata": {},
   "source": [
    "Reference: [twelth root of two](https://en.wikipedia.org/wiki/Twelfth_root_of_two)"
   ]
  },
  {
   "cell_type": "markdown",
   "metadata": {},
   "source": [
    "So getting a new frequency using this ratio would give:\n",
    "> $f_{new}={f_0}\\cdot{r}$"
   ]
  },
  {
   "cell_type": "markdown",
   "metadata": {},
   "source": [
    "To get the frequency at a new note, if we know the distance in semitones from the fundamental $n$, we can derive $r$ as:\n",
    "> ${r}={2}^\\frac{n}{12}$  "
   ]
  },
  {
   "cell_type": "code",
   "execution_count": 13,
   "metadata": {},
   "outputs": [
    {
     "data": {
      "text/plain": [
       "1.0594630943592953"
      ]
     },
     "execution_count": 13,
     "metadata": {},
     "output_type": "execute_result"
    }
   ],
   "source": [
    "noodler.r"
   ]
  },
  {
   "cell_type": "code",
   "execution_count": 14,
   "metadata": {},
   "outputs": [
    {
     "data": {
      "text/plain": [
       "17.817153745105756"
      ]
     },
     "execution_count": 14,
     "metadata": {},
     "output_type": "execute_result"
    }
   ],
   "source": [
    "noodler.magic_number"
   ]
  },
  {
   "cell_type": "markdown",
   "metadata": {},
   "source": [
    "TODO where did this magic number come from?  \n",
    "As in, why the tits is it here?"
   ]
  },
  {
   "cell_type": "markdown",
   "metadata": {},
   "source": [
    "Using 440Hz as our fundamental, $f_0$ we can now right it as:\n",
    "> $f_{new}={440}\\cdot{2}^\\frac{n}{12}$  "
   ]
  },
  {
   "cell_type": "markdown",
   "metadata": {},
   "source": [
    "Remember 440 is A4, but the musical alphabet starts at C, so we must take into account that C is actually 9 semitones from the next octaves A  \n",
    "\n",
    "> $f_{new}={440}\\cdot{2}^\\frac{(n-9)}{12}$"
   ]
  },
  {
   "cell_type": "code",
   "execution_count": 15,
   "metadata": {},
   "outputs": [
    {
     "data": {
      "text/plain": [
       "440.0"
      ]
     },
     "execution_count": 15,
     "metadata": {},
     "output_type": "execute_result"
    }
   ],
   "source": [
    "noodler.note_to_frequency('a',4)"
   ]
  },
  {
   "cell_type": "code",
   "execution_count": 16,
   "metadata": {},
   "outputs": [
    {
     "data": {
      "text/plain": [
       "82.4068892282175"
      ]
     },
     "execution_count": 16,
     "metadata": {},
     "output_type": "execute_result"
    }
   ],
   "source": [
    "noodler.note_to_frequency('e',2)"
   ]
  },
  {
   "cell_type": "code",
   "execution_count": 17,
   "metadata": {},
   "outputs": [
    {
     "data": {
      "text/plain": [
       "1318.5102276514797"
      ]
     },
     "execution_count": 17,
     "metadata": {},
     "output_type": "execute_result"
    }
   ],
   "source": [
    "noodler.note_to_frequency('e',6)"
   ]
  },
  {
   "cell_type": "code",
   "execution_count": 18,
   "metadata": {},
   "outputs": [
    {
     "data": {
      "text/plain": [
       "13.75"
      ]
     },
     "execution_count": 18,
     "metadata": {},
     "output_type": "execute_result"
    }
   ],
   "source": [
    "noodler.note_to_frequency('a',-1)"
   ]
  },
  {
   "cell_type": "code",
   "execution_count": 19,
   "metadata": {},
   "outputs": [
    {
     "data": {
      "text/plain": [
       "440.0"
      ]
     },
     "execution_count": 19,
     "metadata": {},
     "output_type": "execute_result"
    }
   ],
   "source": [
    "noodler.note_to_frequency('a4')"
   ]
  },
  {
   "cell_type": "code",
   "execution_count": 20,
   "metadata": {},
   "outputs": [
    {
     "data": {
      "text/plain": [
       "27.5"
      ]
     },
     "execution_count": 20,
     "metadata": {},
     "output_type": "execute_result"
    }
   ],
   "source": [
    "noodler.note_to_frequency('a0')"
   ]
  },
  {
   "cell_type": "code",
   "execution_count": 21,
   "metadata": {},
   "outputs": [
    {
     "data": {
      "text/plain": [
       "9397.272573357044"
      ]
     },
     "execution_count": 21,
     "metadata": {},
     "output_type": "execute_result"
    }
   ],
   "source": [
    "noodler.note_to_frequency('d9')"
   ]
  },
  {
   "cell_type": "code",
   "execution_count": 22,
   "metadata": {},
   "outputs": [
    {
     "data": {
      "text/plain": [
       "10548.081821211836"
      ]
     },
     "execution_count": 22,
     "metadata": {},
     "output_type": "execute_result"
    }
   ],
   "source": [
    "noodler.note_to_frequency('e9')"
   ]
  },
  {
   "cell_type": "code",
   "execution_count": 23,
   "metadata": {},
   "outputs": [
    {
     "data": {
      "text/plain": [
       "21096.16364242367"
      ]
     },
     "execution_count": 23,
     "metadata": {},
     "output_type": "execute_result"
    }
   ],
   "source": [
    "noodler.note_to_frequency('e10')"
   ]
  },
  {
   "cell_type": "code",
   "execution_count": 24,
   "metadata": {},
   "outputs": [
    {
     "data": {
      "text/plain": [
       "28160.0"
      ]
     },
     "execution_count": 24,
     "metadata": {},
     "output_type": "execute_result"
    }
   ],
   "source": [
    "noodler.note_to_frequency('a10')"
   ]
  },
  {
   "cell_type": "code",
   "execution_count": 25,
   "metadata": {},
   "outputs": [
    {
     "data": {
      "text/plain": [
       "14.567617547440307"
      ]
     },
     "execution_count": 25,
     "metadata": {},
     "output_type": "execute_result"
    }
   ],
   "source": [
    "noodler.note_to_frequency(\"a#-1\")"
   ]
  },
  {
   "cell_type": "code",
   "execution_count": 26,
   "metadata": {},
   "outputs": [
    {
     "data": {
      "text/plain": [
       "466.1637615180899"
      ]
     },
     "execution_count": 26,
     "metadata": {},
     "output_type": "execute_result"
    }
   ],
   "source": [
    "noodler.note_to_frequency('a#4')"
   ]
  },
  {
   "cell_type": "markdown",
   "metadata": {},
   "source": [
    "So there are about 9 octaves of audible sound"
   ]
  },
  {
   "cell_type": "markdown",
   "metadata": {},
   "source": [
    "<center><h2>Step sizes"
   ]
  },
  {
   "cell_type": "markdown",
   "metadata": {},
   "source": [
    "Semitone step sizes:    \n",
    "Think going from a sharp to a natural is a _half step, or distance of 1"
   ]
  },
  {
   "cell_type": "code",
   "execution_count": 27,
   "metadata": {},
   "outputs": [
    {
     "data": {
      "text/plain": [
       "2"
      ]
     },
     "execution_count": 27,
     "metadata": {},
     "output_type": "execute_result"
    }
   ],
   "source": [
    "noodler._whole_step"
   ]
  },
  {
   "cell_type": "code",
   "execution_count": 28,
   "metadata": {},
   "outputs": [
    {
     "data": {
      "text/plain": [
       "1"
      ]
     },
     "execution_count": 28,
     "metadata": {},
     "output_type": "execute_result"
    }
   ],
   "source": [
    "noodler._half_step"
   ]
  },
  {
   "cell_type": "markdown",
   "metadata": {},
   "source": [
    "<center id='intervals'><h1>Intervals"
   ]
  },
  {
   "cell_type": "markdown",
   "metadata": {},
   "source": [
    "In the following dict, the useful intervals used are listed  \n",
    "Note use of P, it stands for perfect.  \n",
    "There's some ratio that attempts to rationalize why they are 'perfect'.  \n",
    "Should probably put that here. \n",
    "\n",
    "Fun fact:  \n",
    "Playing a tritone was banned in church's at one point in time. People thought that this unpleasant interval was witch craft and an attempt to summon the devil.  "
   ]
  },
  {
   "cell_type": "code",
   "execution_count": 29,
   "metadata": {},
   "outputs": [
    {
     "data": {
      "text/plain": [
       "{'u': 0,\n",
       " 'm2': 1,\n",
       " 'M2': 2,\n",
       " 'm3': 3,\n",
       " 'M3': 4,\n",
       " 'P4': 5,\n",
       " 'T': 6,\n",
       " 'P5': 7,\n",
       " 'm6': 8,\n",
       " 'M6': 9,\n",
       " 'm7': 10,\n",
       " 'M7': 11,\n",
       " 'o': 12,\n",
       " 0: 'u',\n",
       " 1: 'm2',\n",
       " 2: 'M2',\n",
       " 3: 'm3',\n",
       " 4: 'M3',\n",
       " 5: 'P4',\n",
       " 6: 'T',\n",
       " 7: 'P5',\n",
       " 8: 'm6',\n",
       " 9: 'M6',\n",
       " 10: 'm7',\n",
       " 11: 'M7',\n",
       " 12: 'o'}"
      ]
     },
     "execution_count": 29,
     "metadata": {},
     "output_type": "execute_result"
    }
   ],
   "source": [
    "noodler.intervals"
   ]
  },
  {
   "cell_type": "markdown",
   "metadata": {},
   "source": [
    "`_decompose_interval`"
   ]
  },
  {
   "cell_type": "code",
   "execution_count": 30,
   "metadata": {},
   "outputs": [
    {
     "data": {
      "text/plain": [
       "['_whole', '_whole']"
      ]
     },
     "execution_count": 30,
     "metadata": {},
     "output_type": "execute_result"
    }
   ],
   "source": [
    "noodler._decompose_interval(\"M3\")"
   ]
  },
  {
   "cell_type": "markdown",
   "metadata": {},
   "source": [
    "`notes_for_interval`"
   ]
  },
  {
   "cell_type": "code",
   "execution_count": 31,
   "metadata": {},
   "outputs": [
    {
     "data": {
      "text/plain": [
       "['g', 'f#']"
      ]
     },
     "execution_count": 31,
     "metadata": {},
     "output_type": "execute_result"
    }
   ],
   "source": [
    "noodler.notes_for_interval('G','M7')"
   ]
  },
  {
   "cell_type": "markdown",
   "metadata": {},
   "source": [
    "`interval_for_notes`"
   ]
  },
  {
   "cell_type": "code",
   "execution_count": 32,
   "metadata": {},
   "outputs": [
    {
     "data": {
      "text/plain": [
       "'u+o'"
      ]
     },
     "execution_count": 32,
     "metadata": {},
     "output_type": "execute_result"
    }
   ],
   "source": [
    "noodler.interval_for_notes('f5','f6')"
   ]
  },
  {
   "cell_type": "code",
   "execution_count": 33,
   "metadata": {},
   "outputs": [
    {
     "data": {
      "text/plain": [
       "'M7'"
      ]
     },
     "execution_count": 33,
     "metadata": {},
     "output_type": "execute_result"
    }
   ],
   "source": [
    "noodler.interval_for_notes('c3','b3')"
   ]
  },
  {
   "cell_type": "code",
   "execution_count": 34,
   "metadata": {},
   "outputs": [
    {
     "data": {
      "text/plain": [
       "'m3'"
      ]
     },
     "execution_count": 34,
     "metadata": {},
     "output_type": "execute_result"
    }
   ],
   "source": [
    "noodler.interval_for_notes('b','d')"
   ]
  },
  {
   "cell_type": "markdown",
   "metadata": {},
   "source": [
    "`add_interval`"
   ]
  },
  {
   "cell_type": "code",
   "execution_count": 35,
   "metadata": {},
   "outputs": [
    {
     "data": {
      "text/plain": [
       "'a#'"
      ]
     },
     "execution_count": 35,
     "metadata": {},
     "output_type": "execute_result"
    }
   ],
   "source": [
    "noodler.add_interval('g',3)"
   ]
  },
  {
   "cell_type": "code",
   "execution_count": 36,
   "metadata": {},
   "outputs": [
    {
     "data": {
      "text/plain": [
       "'f#3'"
      ]
     },
     "execution_count": 36,
     "metadata": {},
     "output_type": "execute_result"
    }
   ],
   "source": [
    "noodler.add_interval('g#2','m7')"
   ]
  },
  {
   "cell_type": "code",
   "execution_count": 37,
   "metadata": {},
   "outputs": [
    {
     "data": {
      "text/plain": [
       "'c#3'"
      ]
     },
     "execution_count": 37,
     "metadata": {},
     "output_type": "execute_result"
    }
   ],
   "source": [
    "noodler.add_interval('b2','M2')"
   ]
  },
  {
   "cell_type": "code",
   "execution_count": 38,
   "metadata": {},
   "outputs": [
    {
     "data": {
      "text/plain": [
       "'c#4'"
      ]
     },
     "execution_count": 38,
     "metadata": {},
     "output_type": "execute_result"
    }
   ],
   "source": [
    "noodler.add_interval('b2','M2+o')"
   ]
  },
  {
   "cell_type": "code",
   "execution_count": 39,
   "metadata": {},
   "outputs": [
    {
     "data": {
      "text/plain": [
       "'a1'"
      ]
     },
     "execution_count": 39,
     "metadata": {},
     "output_type": "execute_result"
    }
   ],
   "source": [
    "noodler.add_interval('b2','-M2-o')"
   ]
  },
  {
   "cell_type": "markdown",
   "metadata": {
    "tags": [
     "wutdisdoedo"
    ]
   },
   "source": [
    " "
   ]
  },
  {
   "cell_type": "markdown",
   "metadata": {},
   "source": [
    "<center id='circles'><h1>Circle of Fifths"
   ]
  },
  {
   "cell_type": "markdown",
   "metadata": {},
   "source": [
    "Gives an easy to follow cheat sheet on making music"
   ]
  },
  {
   "cell_type": "code",
   "execution_count": 40,
   "metadata": {},
   "outputs": [
    {
     "name": "stdout",
     "output_type": "stream",
     "text": [
      "circle of fifths:  ['c', 'g', 'd', 'a', 'e', 'b', 'f#']\n",
      "order of _notes to become sharp:  ['f', 'c', 'g', 'd', 'a', 'e', 'b']\n"
     ]
    }
   ],
   "source": [
    "circ, order = noodler.make_circle_of_fifths()\n",
    "print('circle of fifths: ',circ)\n",
    "print('order of _notes to become sharp: ',order)"
   ]
  },
  {
   "cell_type": "markdown",
   "metadata": {},
   "source": [
    "Lets say we want to know about the key of E major:"
   ]
  },
  {
   "cell_type": "code",
   "execution_count": 41,
   "metadata": {},
   "outputs": [
    {
     "data": {
      "text/plain": [
       "4"
      ]
     },
     "execution_count": 41,
     "metadata": {},
     "output_type": "execute_result"
    }
   ],
   "source": [
    "circ.index('e')"
   ]
  },
  {
   "cell_type": "markdown",
   "metadata": {},
   "source": [
    "So we need 4 _notes to become sharp.  \n",
    "Now lets use the same circle and determine what those _notes are:"
   ]
  },
  {
   "cell_type": "code",
   "execution_count": 42,
   "metadata": {},
   "outputs": [
    {
     "data": {
      "text/plain": [
       "['f', 'c', 'g', 'd']"
      ]
     },
     "execution_count": 42,
     "metadata": {},
     "output_type": "execute_result"
    }
   ],
   "source": [
    "order[:circ.index('e')]"
   ]
  },
  {
   "cell_type": "markdown",
   "metadata": {},
   "source": [
    "Go look up the key of E major. 10 doll hairs says f, c, g, and d are made sharp."
   ]
  },
  {
   "cell_type": "markdown",
   "metadata": {},
   "source": [
    "You can go the other direction and make the circle out of fourths.  \n",
    "This is the wrong direction though as it gives you how to make scales with flats.  "
   ]
  },
  {
   "cell_type": "code",
   "execution_count": 43,
   "metadata": {},
   "outputs": [
    {
     "name": "stdout",
     "output_type": "stream",
     "text": [
      "circle of fourths:  ['c', 'f', 'bb', 'eb', 'ab', 'db', 'gb']\n",
      "order of _notes to become flat:  ['b', 'e', 'a', 'd', 'g', 'c', 'f']\n"
     ]
    }
   ],
   "source": [
    "circ, order = noodler.make_circle_of_fourths()\n",
    "print('circle of fourths: ',circ)\n",
    "print('order of _notes to become flat: ',order)"
   ]
  },
  {
   "cell_type": "markdown",
   "metadata": {},
   "source": [
    "Lets say we want to know about the key of Ab major:"
   ]
  },
  {
   "cell_type": "code",
   "execution_count": 44,
   "metadata": {},
   "outputs": [
    {
     "data": {
      "text/plain": [
       "4"
      ]
     },
     "execution_count": 44,
     "metadata": {},
     "output_type": "execute_result"
    }
   ],
   "source": [
    "circ.index('ab')"
   ]
  },
  {
   "cell_type": "markdown",
   "metadata": {},
   "source": [
    "So we need 4 _notes to become flat.  \n",
    "Now lets use the same circle and determine what those _notes are:"
   ]
  },
  {
   "cell_type": "code",
   "execution_count": 45,
   "metadata": {},
   "outputs": [
    {
     "data": {
      "text/plain": [
       "['b', 'e', 'a', 'd']"
      ]
     },
     "execution_count": 45,
     "metadata": {},
     "output_type": "execute_result"
    }
   ],
   "source": [
    "order[:circ.index('ab')]"
   ]
  },
  {
   "cell_type": "markdown",
   "metadata": {
    "slideshow": {
     "slide_type": "fragment"
    }
   },
   "source": [
    "<center id='scales'><h1>Scales"
   ]
  },
  {
   "cell_type": "markdown",
   "metadata": {},
   "source": [
    "Most scales are 8 long  \n",
    "Take your bebop elsewhere troll"
   ]
  },
  {
   "cell_type": "code",
   "execution_count": 46,
   "metadata": {},
   "outputs": [
    {
     "data": {
      "text/plain": [
       "{'major': {'intervals': [2, 2, 1, 2, 2, 2, 1],\n",
       "  'modes': ['ionian',\n",
       "   'dorian',\n",
       "   'phrygian',\n",
       "   'lydian',\n",
       "   'mixolydian',\n",
       "   'aeolian',\n",
       "   'locrian'],\n",
       "  'numerals': ['M', 'm', 'm', 'M', 'M', 'm', 'm,o']},\n",
       " 'minor': {'intervals': [2, 1, 2, 2, 1, 2, 2],\n",
       "  'modes': ['aeolian',\n",
       "   'locrian',\n",
       "   'ionian',\n",
       "   'dorian',\n",
       "   'phrygian',\n",
       "   'lydian',\n",
       "   'mixolydian'],\n",
       "  'numerals': ['m', 'm,o', 'M', 'm', 'm', 'M', 'M']}}"
      ]
     },
     "execution_count": 46,
     "metadata": {},
     "output_type": "execute_result"
    }
   ],
   "source": [
    "noodler.scales"
   ]
  },
  {
   "cell_type": "code",
   "execution_count": 47,
   "metadata": {},
   "outputs": [
    {
     "data": {
      "text/plain": [
       "['i', 'iio', 'III', 'iv', 'v', 'VI', 'VII']"
      ]
     },
     "execution_count": 47,
     "metadata": {},
     "output_type": "execute_result"
    }
   ],
   "source": [
    "noodler.get_numerals_of_scale('minor')"
   ]
  },
  {
   "cell_type": "code",
   "execution_count": 48,
   "metadata": {},
   "outputs": [
    {
     "data": {
      "text/plain": [
       "{'intervals': [2, 1, 2, 2, 2, 1, 2],\n",
       " 'modes': ['dorian',\n",
       "  'phrygian',\n",
       "  'lydian',\n",
       "  'mixolydian',\n",
       "  'aeolian',\n",
       "  'locrian',\n",
       "  'ionian'],\n",
       " 'numerals': ['m', 'm', 'M', 'M', 'm', 'm,o', 'M']}"
      ]
     },
     "execution_count": 48,
     "metadata": {},
     "output_type": "execute_result"
    }
   ],
   "source": [
    "noodler.get_scale_of_mode('dorian')"
   ]
  },
  {
   "cell_type": "code",
   "execution_count": 49,
   "metadata": {},
   "outputs": [
    {
     "data": {
      "text/plain": [
       "['g#', 'a', 'b', 'c#', 'd#', 'e', 'f#']"
      ]
     },
     "execution_count": 49,
     "metadata": {},
     "output_type": "execute_result"
    }
   ],
   "source": [
    "noodler.make_scale(('g#','phrygian'))"
   ]
  },
  {
   "cell_type": "code",
   "execution_count": 50,
   "metadata": {},
   "outputs": [
    {
     "data": {
      "text/plain": [
       "['e', 'f#', 'g', 'a', 'b', 'c', 'd']"
      ]
     },
     "execution_count": 50,
     "metadata": {},
     "output_type": "execute_result"
    }
   ],
   "source": [
    "noodler.make_scale(('e','minor'))"
   ]
  },
  {
   "cell_type": "markdown",
   "metadata": {},
   "source": [
    "Look a function can now make a scale for us.  \n",
    "This is exactly what artificial intelligence is.  \n",
    "We are teaching a program to learn how to make music.  "
   ]
  },
  {
   "cell_type": "code",
   "execution_count": 51,
   "metadata": {},
   "outputs": [
    {
     "data": {
      "text/plain": [
       "['g', 'a', 'b', 'c', 'd', 'e', 'f#']"
      ]
     },
     "execution_count": 51,
     "metadata": {},
     "output_type": "execute_result"
    }
   ],
   "source": [
    "noodler.get_major_scale_by_circle('g')"
   ]
  },
  {
   "cell_type": "markdown",
   "metadata": {},
   "source": [
    "<center id='chords'><h1>Chords"
   ]
  },
  {
   "cell_type": "markdown",
   "metadata": {},
   "source": [
    "Starting with just triads  \n",
    "Will expand once I know where to go with this stuff"
   ]
  },
  {
   "cell_type": "code",
   "execution_count": 52,
   "metadata": {},
   "outputs": [
    {
     "data": {
      "text/html": [
       "<div>\n",
       "<style scoped>\n",
       "    .dataframe tbody tr th:only-of-type {\n",
       "        vertical-align: middle;\n",
       "    }\n",
       "\n",
       "    .dataframe tbody tr th {\n",
       "        vertical-align: top;\n",
       "    }\n",
       "\n",
       "    .dataframe thead th {\n",
       "        text-align: right;\n",
       "    }\n",
       "</style>\n",
       "<table border=\"1\" class=\"dataframe\">\n",
       "  <thead>\n",
       "    <tr style=\"text-align: right;\">\n",
       "      <th></th>\n",
       "      <th>intervals</th>\n",
       "      <th>numbers</th>\n",
       "      <th>chord_type</th>\n",
       "    </tr>\n",
       "  </thead>\n",
       "  <tbody>\n",
       "    <tr>\n",
       "      <th>major</th>\n",
       "      <td>(M3, P5)</td>\n",
       "      <td>(1, 3, 5)</td>\n",
       "      <td>major</td>\n",
       "    </tr>\n",
       "    <tr>\n",
       "      <th>minor</th>\n",
       "      <td>(m3, P5)</td>\n",
       "      <td>(1, 3b, 5)</td>\n",
       "      <td>minor</td>\n",
       "    </tr>\n",
       "    <tr>\n",
       "      <th>diminished</th>\n",
       "      <td>(m3, T)</td>\n",
       "      <td>(1, 3b, 5b)</td>\n",
       "      <td>diminished</td>\n",
       "    </tr>\n",
       "    <tr>\n",
       "      <th>augmented</th>\n",
       "      <td>(M3, T)</td>\n",
       "      <td>(1, 3#, 5#)</td>\n",
       "      <td>augmented</td>\n",
       "    </tr>\n",
       "    <tr>\n",
       "      <th>sus2</th>\n",
       "      <td>(M2, P5)</td>\n",
       "      <td>(1, 2, 5)</td>\n",
       "      <td>sus2</td>\n",
       "    </tr>\n",
       "    <tr>\n",
       "      <th>sus4</th>\n",
       "      <td>(P4, P5)</td>\n",
       "      <td>(1, 4, 5)</td>\n",
       "      <td>sus4</td>\n",
       "    </tr>\n",
       "  </tbody>\n",
       "</table>\n",
       "</div>"
      ],
      "text/plain": [
       "           intervals      numbers  chord_type\n",
       "major       (M3, P5)    (1, 3, 5)       major\n",
       "minor       (m3, P5)   (1, 3b, 5)       minor\n",
       "diminished   (m3, T)  (1, 3b, 5b)  diminished\n",
       "augmented    (M3, T)  (1, 3#, 5#)   augmented\n",
       "sus2        (M2, P5)    (1, 2, 5)        sus2\n",
       "sus4        (P4, P5)    (1, 4, 5)        sus4"
      ]
     },
     "execution_count": 52,
     "metadata": {},
     "output_type": "execute_result"
    }
   ],
   "source": [
    "noodler.chords_df"
   ]
  },
  {
   "cell_type": "code",
   "execution_count": 53,
   "metadata": {},
   "outputs": [
    {
     "data": {
      "text/plain": [
       "['g', 'a#', 'd']"
      ]
     },
     "execution_count": 53,
     "metadata": {},
     "output_type": "execute_result"
    }
   ],
   "source": [
    "noodler.make_chord(('g','minor'))"
   ]
  },
  {
   "cell_type": "markdown",
   "metadata": {},
   "source": [
    "<center><h2>Chords in a Key"
   ]
  },
  {
   "cell_type": "markdown",
   "metadata": {},
   "source": [
    "Simplest way to find the root note for chords in a key is by use of the circle of fifths  \n",
    "Here is a simple function that gets the 3 major chords in a major key by use of the circle of fifths  \n",
    "Note: the 4(IV) and 5(V) chord root _notes are next to the keys root note on the circle of fifths. Pretty neat-o"
   ]
  },
  {
   "cell_type": "code",
   "execution_count": 54,
   "metadata": {},
   "outputs": [
    {
     "data": {
      "text/plain": [
       "{'I': 'e', 'IV': 'b', 'V': 'a'}"
      ]
     },
     "execution_count": 54,
     "metadata": {},
     "output_type": "execute_result"
    }
   ],
   "source": [
    "noodler.get_chords_root_note_for_major_key_by_circle('e')"
   ]
  },
  {
   "cell_type": "markdown",
   "metadata": {},
   "source": [
    "A slightly more complicated function:  \n",
    "This implies you know the order of major, minor, and diminished in a major key though. :("
   ]
  },
  {
   "cell_type": "code",
   "execution_count": 55,
   "metadata": {},
   "outputs": [
    {
     "data": {
      "text/plain": [
       "{'I': ['c', 'e', 'g'],\n",
       " 'ii': ['d', 'f', 'a'],\n",
       " 'iii': ['e', 'g', 'b'],\n",
       " 'IV': ['f', 'a', 'c'],\n",
       " 'V': ['g', 'b', 'd'],\n",
       " 'vi': ['a', 'c', 'e'],\n",
       " 'viio': ['b', 'd', 'f']}"
      ]
     },
     "execution_count": 55,
     "metadata": {},
     "output_type": "execute_result"
    }
   ],
   "source": [
    "noodler.get_chords_for_major_key('c')"
   ]
  },
  {
   "cell_type": "markdown",
   "metadata": {},
   "source": [
    "Make function to now find the chord given the intervals"
   ]
  },
  {
   "cell_type": "code",
   "execution_count": 56,
   "metadata": {},
   "outputs": [
    {
     "data": {
      "text/plain": [
       "'minor'"
      ]
     },
     "execution_count": 56,
     "metadata": {},
     "output_type": "execute_result"
    }
   ],
   "source": [
    "noodler.get_chord_type_by_intervals(('m3','P5'))"
   ]
  },
  {
   "cell_type": "code",
   "execution_count": 57,
   "metadata": {},
   "outputs": [
    {
     "data": {
      "text/plain": [
       "'Not Found'"
      ]
     },
     "execution_count": 57,
     "metadata": {},
     "output_type": "execute_result"
    }
   ],
   "source": [
    "noodler.get_chord_type_by_intervals(('m3','P4'))"
   ]
  },
  {
   "cell_type": "markdown",
   "metadata": {},
   "source": [
    "Now make a function that can ingest _notes, find those intervals, then finds the chord type"
   ]
  },
  {
   "cell_type": "code",
   "execution_count": 58,
   "metadata": {},
   "outputs": [
    {
     "data": {
      "text/plain": [
       "'major'"
      ]
     },
     "execution_count": 58,
     "metadata": {},
     "output_type": "execute_result"
    }
   ],
   "source": [
    "noodler.get_chord_type(['g2','b2','d3'])"
   ]
  },
  {
   "cell_type": "markdown",
   "metadata": {},
   "source": [
    "Get the chords in a given key.  \n",
    "Horribly named."
   ]
  },
  {
   "cell_type": "code",
   "execution_count": 59,
   "metadata": {},
   "outputs": [
    {
     "data": {
      "text/plain": [
       "{'I': ['g', 'b', 'd'],\n",
       " 'ii': ['a', 'c', 'e'],\n",
       " 'iii': ['b', 'd', 'f#'],\n",
       " 'IV': ['c', 'e', 'g'],\n",
       " 'V': ['d', 'f#', 'a'],\n",
       " 'vi': ['e', 'g', 'b'],\n",
       " 'viio': ['f#', 'a', 'c']}"
      ]
     },
     "execution_count": 59,
     "metadata": {},
     "output_type": "execute_result"
    }
   ],
   "source": [
    "noodler.get_chords_for_key(('g','major'))"
   ]
  },
  {
   "cell_type": "code",
   "execution_count": 60,
   "metadata": {},
   "outputs": [
    {
     "data": {
      "text/plain": [
       "{'io': ['f#', 'a', 'c'],\n",
       " 'II': ['g', 'b', 'd'],\n",
       " 'iii': ['a', 'c', 'e'],\n",
       " 'iv': ['b', 'd', 'f#'],\n",
       " 'V': ['c', 'e', 'g'],\n",
       " 'VI': ['d', 'f#', 'a'],\n",
       " 'vii': ['e', 'g', 'b']}"
      ]
     },
     "execution_count": 60,
     "metadata": {},
     "output_type": "execute_result"
    }
   ],
   "source": [
    "noodler.get_chords_for_key(('f#','locrian'))"
   ]
  },
  {
   "cell_type": "markdown",
   "metadata": {},
   "source": [
    "<center id='keys'><h1>Keys"
   ]
  },
  {
   "cell_type": "code",
   "execution_count": 61,
   "metadata": {},
   "outputs": [
    {
     "data": {
      "text/html": [
       "<div>\n",
       "<style scoped>\n",
       "    .dataframe tbody tr th:only-of-type {\n",
       "        vertical-align: middle;\n",
       "    }\n",
       "\n",
       "    .dataframe tbody tr th {\n",
       "        vertical-align: top;\n",
       "    }\n",
       "\n",
       "    .dataframe thead th {\n",
       "        text-align: right;\n",
       "    }\n",
       "</style>\n",
       "<table border=\"1\" class=\"dataframe\">\n",
       "  <thead>\n",
       "    <tr style=\"text-align: right;\">\n",
       "      <th></th>\n",
       "      <th>note</th>\n",
       "      <th>numeral</th>\n",
       "      <th>chord_triad</th>\n",
       "      <th>type</th>\n",
       "      <th>mode</th>\n",
       "    </tr>\n",
       "  </thead>\n",
       "  <tbody>\n",
       "    <tr>\n",
       "      <th>1</th>\n",
       "      <td>f#</td>\n",
       "      <td>io</td>\n",
       "      <td>[f#, a, c]</td>\n",
       "      <td>diminished</td>\n",
       "      <td>locrian</td>\n",
       "    </tr>\n",
       "    <tr>\n",
       "      <th>2</th>\n",
       "      <td>g</td>\n",
       "      <td>II</td>\n",
       "      <td>[g, b, d]</td>\n",
       "      <td>major</td>\n",
       "      <td>ionian</td>\n",
       "    </tr>\n",
       "    <tr>\n",
       "      <th>3</th>\n",
       "      <td>a</td>\n",
       "      <td>iii</td>\n",
       "      <td>[a, c, e]</td>\n",
       "      <td>minor</td>\n",
       "      <td>dorian</td>\n",
       "    </tr>\n",
       "    <tr>\n",
       "      <th>4</th>\n",
       "      <td>b</td>\n",
       "      <td>iv</td>\n",
       "      <td>[b, d, f#]</td>\n",
       "      <td>minor</td>\n",
       "      <td>phrygian</td>\n",
       "    </tr>\n",
       "    <tr>\n",
       "      <th>5</th>\n",
       "      <td>c</td>\n",
       "      <td>V</td>\n",
       "      <td>[c, e, g]</td>\n",
       "      <td>major</td>\n",
       "      <td>lydian</td>\n",
       "    </tr>\n",
       "    <tr>\n",
       "      <th>6</th>\n",
       "      <td>d</td>\n",
       "      <td>VI</td>\n",
       "      <td>[d, f#, a]</td>\n",
       "      <td>major</td>\n",
       "      <td>mixolydian</td>\n",
       "    </tr>\n",
       "    <tr>\n",
       "      <th>7</th>\n",
       "      <td>e</td>\n",
       "      <td>vii</td>\n",
       "      <td>[e, g, b]</td>\n",
       "      <td>minor</td>\n",
       "      <td>aeolian</td>\n",
       "    </tr>\n",
       "  </tbody>\n",
       "</table>\n",
       "</div>"
      ],
      "text/plain": [
       "  note numeral chord_triad        type        mode\n",
       "1   f#      io  [f#, a, c]  diminished     locrian\n",
       "2    g      II   [g, b, d]       major      ionian\n",
       "3    a     iii   [a, c, e]       minor      dorian\n",
       "4    b      iv  [b, d, f#]       minor    phrygian\n",
       "5    c       V   [c, e, g]       major      lydian\n",
       "6    d      VI  [d, f#, a]       major  mixolydian\n",
       "7    e     vii   [e, g, b]       minor     aeolian"
      ]
     },
     "execution_count": 61,
     "metadata": {},
     "output_type": "execute_result"
    }
   ],
   "source": [
    "noodler.make_key(('f#','locrian'))"
   ]
  }
 ],
 "metadata": {
  "kernelspec": {
   "display_name": "Python 3",
   "language": "python",
   "name": "python3"
  },
  "language_info": {
   "codemirror_mode": {
    "name": "ipython",
    "version": 3
   },
   "file_extension": ".py",
   "mimetype": "text/x-python",
   "name": "python",
   "nbconvert_exporter": "python",
   "pygments_lexer": "ipython3",
   "version": "3.7.9"
  }
 },
 "nbformat": 4,
 "nbformat_minor": 4
}
